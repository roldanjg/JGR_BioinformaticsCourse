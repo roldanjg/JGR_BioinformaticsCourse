{
 "cells": [
  {
   "cell_type": "markdown",
   "metadata": {},
   "source": [
    "Answer 1: the file is inside my folder of Github  and also in my VM."
   ]
  },
  {
   "cell_type": "code",
   "execution_count": null,
   "metadata": {},
   "outputs": [],
   "source": []
  },
  {
   "cell_type": "markdown",
   "metadata": {},
   "source": [
    "Answer 2: I've used the command list of directory contents (ls) and the arguments that I need plus the name of the file to focus only in this one. Users: Can read and writte.\n",
    "Groups: Can read and writte.\n",
    "Anyone: Can read only.\n"
   ]
  },
  {
   "cell_type": "code",
   "execution_count": null,
   "metadata": {},
   "outputs": [],
   "source": [
    "ls -lsh Locus_Germplasm_Phenotype_20130122.txt"
   ]
  },
  {
   "cell_type": "markdown",
   "metadata": {},
   "source": [
    "Answer 3: Using the command head and the argument line 1 followed by the name of the file I  found this answer."
   ]
  },
  {
   "cell_type": "code",
   "execution_count": null,
   "metadata": {},
   "outputs": [],
   "source": [
    "head -1 Locus_Germplasm_Phenotype_20130122.txt"
   ]
  },
  {
   "cell_type": "markdown",
   "metadata": {},
   "source": [
    "Answer 4: Using the comand Word counter and the argument l to get only the lines, anyway wc command shows also this information within the number of words and letters."
   ]
  },
  {
   "cell_type": "code",
   "execution_count": null,
   "metadata": {},
   "outputs": [],
   "source": [
    "wc -l Locus_Germplasm_Phenotype_20130122.txt"
   ]
  },
  {
   "cell_type": "markdown",
   "metadata": {},
   "source": [
    "Answer 5: I found out searching on this website (https://unix.stackexchange.com/questions/96226/delete-first-line-of-a-file) a way to do it with the command tail. Then I just have to count again to get the number of lines that must be one less that in the original file."
   ]
  },
  {
   "cell_type": "code",
   "execution_count": null,
   "metadata": {},
   "outputs": [],
   "source": [
    "tail -n +2 Locus_Germplasm_Phenotype_20130122.txt > Data_Only.csv \n",
    "wc -l Data_Only.csv"
   ]
  },
  {
   "cell_type": "markdown",
   "metadata": {},
   "source": [
    "answer 6: grep \"root\""
   ]
  },
  {
   "cell_type": "code",
   "execution_count": null,
   "metadata": {},
   "outputs": [],
   "source": [
    "grep -i \"root\" Locus_Germplasm_Phenotype_20130122.txt"
   ]
  },
  {
   "cell_type": "markdown",
   "metadata": {},
   "source": [
    "answer 7: we use grep command and all the arguments, following the At codes order properly and using a pipe to output to the next command a reduced sellection to cut aund copy into the file only the Ats related somehow with the word \\\"root\\\". Using the -o argument only the searched result is copied inside tje file"
   ]
  },
  {
   "cell_type": "code",
   "execution_count": null,
   "metadata": {},
   "outputs": [],
   "source": [
    "grep -i \"root\\s\" Locus_Germplasm_Phenotype_20130122.txt | grep -E -io \"at[1-5]g[0-9]{5}\" > Root-associated-Loci.txt"
   ]
  },
  {
   "cell_type": "markdown",
   "metadata": {},
   "source": [
    "answer 8: It's the same that I done in answer 7 but changing the arguments for the ID."
   ]
  },
  {
   "cell_type": "code",
   "execution_count": null,
   "metadata": {},
   "outputs": [],
   "source": [
    "grep -i \"root\" Locus_Germplasm_Phenotype_20130122.txt | grep -E -io \"\\s[0-9][0-9][0-9][0-9]+\" > Root-associated-Publications.txt"
   ]
  }
 ],
 "metadata": {
  "kernelspec": {
   "display_name": "Bash",
   "language": "bash",
   "name": "bash"
  },
  "language_info": {
   "codemirror_mode": "shell",
   "file_extension": ".sh",
   "mimetype": "text/x-sh",
   "name": "bash"
  }
 },
 "nbformat": 4,
 "nbformat_minor": 2
}
